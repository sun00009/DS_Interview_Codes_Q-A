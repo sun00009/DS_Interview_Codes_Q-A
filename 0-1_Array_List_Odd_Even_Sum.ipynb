{
 "cells": [
  {
   "cell_type": "code",
   "execution_count": 1,
   "id": "e325b20e",
   "metadata": {},
   "outputs": [],
   "source": [
    "## Write a program that takes an array of ten elements as input from a user. The elements of the array should be either 0 or 1. \n",
    "## If the number of 1s in the array is odd, \n",
    "## the program should output 1; otherwise, the program should output 0."
   ]
  },
  {
   "cell_type": "code",
   "execution_count": 2,
   "id": "d0eefff9",
   "metadata": {},
   "outputs": [
    {
     "name": "stdout",
     "output_type": "stream",
     "text": [
      " 1\n",
      " 1\n",
      " 1\n",
      " 1\n",
      " 0\n",
      " 0\n",
      " 0\n",
      " 0\n",
      " 1\n",
      " 1\n"
     ]
    }
   ],
   "source": [
    "list_array_fin = []\n",
    "for i in range(0,10):\n",
    "    list_array = int(input(' '),2) ## Will not take any entries other than 0 and 1\n",
    "    list_array_fin.append(list_array)"
   ]
  },
  {
   "cell_type": "code",
   "execution_count": 3,
   "id": "792bccef",
   "metadata": {},
   "outputs": [
    {
     "data": {
      "text/plain": [
       "[1, 1, 1, 1, 0, 0, 0, 0, 1, 1]"
      ]
     },
     "execution_count": 3,
     "metadata": {},
     "output_type": "execute_result"
    }
   ],
   "source": [
    "list_array_fin"
   ]
  },
  {
   "cell_type": "code",
   "execution_count": 4,
   "id": "7eeea188",
   "metadata": {},
   "outputs": [],
   "source": [
    "sum_1 = 0\n",
    "for i in range(len(list_array_fin)):\n",
    "    if list_array_fin[i] == 1:\n",
    "        sum_1 = sum_1 + list_array_fin[i]"
   ]
  },
  {
   "cell_type": "code",
   "execution_count": 5,
   "id": "a76f4dce",
   "metadata": {},
   "outputs": [
    {
     "data": {
      "text/plain": [
       "6"
      ]
     },
     "execution_count": 5,
     "metadata": {},
     "output_type": "execute_result"
    }
   ],
   "source": [
    "sum_1"
   ]
  },
  {
   "cell_type": "code",
   "execution_count": 6,
   "id": "30d9ff7e",
   "metadata": {},
   "outputs": [
    {
     "name": "stdout",
     "output_type": "stream",
     "text": [
      "0\n"
     ]
    }
   ],
   "source": [
    "if sum_1 % 2 != 0:\n",
    "    print(1)\n",
    "else:\n",
    "    print(0)"
   ]
  },
  {
   "cell_type": "code",
   "execution_count": null,
   "id": "4ac0bbb4",
   "metadata": {},
   "outputs": [],
   "source": []
  }
 ],
 "metadata": {
  "kernelspec": {
   "display_name": "Python 3 (ipykernel)",
   "language": "python",
   "name": "python3"
  },
  "language_info": {
   "codemirror_mode": {
    "name": "ipython",
    "version": 3
   },
   "file_extension": ".py",
   "mimetype": "text/x-python",
   "name": "python",
   "nbconvert_exporter": "python",
   "pygments_lexer": "ipython3",
   "version": "3.7.0"
  }
 },
 "nbformat": 4,
 "nbformat_minor": 5
}
