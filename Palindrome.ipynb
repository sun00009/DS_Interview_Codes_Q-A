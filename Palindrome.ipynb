{
 "cells": [
  {
   "cell_type": "code",
   "execution_count": 1,
   "id": "b579c356",
   "metadata": {},
   "outputs": [],
   "source": [
    "pd = 'malayalam'"
   ]
  },
  {
   "cell_type": "code",
   "execution_count": 2,
   "id": "f51b7b3f",
   "metadata": {},
   "outputs": [
    {
     "name": "stdout",
     "output_type": "stream",
     "text": [
      "palindrome\n",
      "palindrome\n",
      "palindrome\n",
      "palindrome\n",
      "palindrome\n",
      "palindrome\n",
      "palindrome\n",
      "palindrome\n",
      "palindrome\n"
     ]
    }
   ],
   "source": [
    "for i in range(len(pd)):\n",
    "    if pd[i] == pd[-i-1]:\n",
    "        print('palindrome')\n",
    "    else:\n",
    "        print('not palindraome')"
   ]
  },
  {
   "cell_type": "code",
   "execution_count": 3,
   "id": "f28b695d",
   "metadata": {},
   "outputs": [],
   "source": [
    "pd_rev = pd[::-1]"
   ]
  },
  {
   "cell_type": "code",
   "execution_count": 4,
   "id": "dbf94da1",
   "metadata": {},
   "outputs": [
    {
     "name": "stdout",
     "output_type": "stream",
     "text": [
      "palindrome\n"
     ]
    }
   ],
   "source": [
    "if pd == pd_rev:\n",
    "    print('palindrome')\n",
    "else:\n",
    "    print('not palindrome')"
   ]
  },
  {
   "cell_type": "code",
   "execution_count": null,
   "id": "3ad9ab31",
   "metadata": {},
   "outputs": [],
   "source": []
  }
 ],
 "metadata": {
  "kernelspec": {
   "display_name": "Python 3 (ipykernel)",
   "language": "python",
   "name": "python3"
  },
  "language_info": {
   "codemirror_mode": {
    "name": "ipython",
    "version": 3
   },
   "file_extension": ".py",
   "mimetype": "text/x-python",
   "name": "python",
   "nbconvert_exporter": "python",
   "pygments_lexer": "ipython3",
   "version": "3.7.0"
  }
 },
 "nbformat": 4,
 "nbformat_minor": 5
}
