{
 "cells": [
  {
   "cell_type": "code",
   "execution_count": 1,
   "id": "9446e696",
   "metadata": {},
   "outputs": [],
   "source": [
    "n = 15"
   ]
  },
  {
   "cell_type": "code",
   "execution_count": 2,
   "id": "926fe91f",
   "metadata": {},
   "outputs": [
    {
     "name": "stdout",
     "output_type": "stream",
     "text": [
      "1\n",
      "2\n",
      "Fizz\n",
      "4\n",
      "Fizz\n",
      "Fizz\n",
      "7\n",
      "8\n",
      "Fizz\n",
      "Fizz\n",
      "11\n",
      "Fizz\n",
      "13\n",
      "14\n",
      "Fizz\n"
     ]
    }
   ],
   "source": [
    "for i in range(1,n+1):\n",
    "    if ((i%3!=0) & (i%5!=0)):\n",
    "        print(i)\n",
    "    else:\n",
    "        print('Fizz')"
   ]
  },
  {
   "cell_type": "code",
   "execution_count": null,
   "id": "56f137bf",
   "metadata": {},
   "outputs": [],
   "source": []
  }
 ],
 "metadata": {
  "kernelspec": {
   "display_name": "Python 3 (ipykernel)",
   "language": "python",
   "name": "python3"
  },
  "language_info": {
   "codemirror_mode": {
    "name": "ipython",
    "version": 3
   },
   "file_extension": ".py",
   "mimetype": "text/x-python",
   "name": "python",
   "nbconvert_exporter": "python",
   "pygments_lexer": "ipython3",
   "version": "3.7.0"
  }
 },
 "nbformat": 4,
 "nbformat_minor": 5
}
