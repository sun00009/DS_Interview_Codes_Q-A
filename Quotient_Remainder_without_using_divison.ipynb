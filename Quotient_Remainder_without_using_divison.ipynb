{
 "cells": [
  {
   "cell_type": "code",
   "execution_count": 1,
   "id": "e3b253bf",
   "metadata": {},
   "outputs": [],
   "source": [
    "a = 85\n",
    "b = 10"
   ]
  },
  {
   "cell_type": "code",
   "execution_count": 2,
   "id": "63d9baba",
   "metadata": {},
   "outputs": [],
   "source": [
    "quotient = 0\n",
    "remainder = a"
   ]
  },
  {
   "cell_type": "code",
   "execution_count": 3,
   "id": "638edbfb",
   "metadata": {},
   "outputs": [
    {
     "name": "stdout",
     "output_type": "stream",
     "text": [
      "Quotient:  8\n",
      "Remainder:  5\n"
     ]
    }
   ],
   "source": [
    "while remainder>b:\n",
    "    remainder = remainder - b\n",
    "    quotient = quotient + 1\n",
    "\n",
    "print('Quotient: ',quotient)\n",
    "print('Remainder: ',remainder)"
   ]
  },
  {
   "cell_type": "code",
   "execution_count": null,
   "id": "86a5db19",
   "metadata": {},
   "outputs": [],
   "source": []
  }
 ],
 "metadata": {
  "kernelspec": {
   "display_name": "Python 3 (ipykernel)",
   "language": "python",
   "name": "python3"
  },
  "language_info": {
   "codemirror_mode": {
    "name": "ipython",
    "version": 3
   },
   "file_extension": ".py",
   "mimetype": "text/x-python",
   "name": "python",
   "nbconvert_exporter": "python",
   "pygments_lexer": "ipython3",
   "version": "3.7.0"
  }
 },
 "nbformat": 4,
 "nbformat_minor": 5
}
