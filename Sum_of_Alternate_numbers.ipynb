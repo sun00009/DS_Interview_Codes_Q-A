{
 "cells": [
  {
   "cell_type": "code",
   "execution_count": 1,
   "id": "94912278",
   "metadata": {},
   "outputs": [],
   "source": [
    "a = [1,2,4,5,6,7,8]"
   ]
  },
  {
   "cell_type": "code",
   "execution_count": 44,
   "id": "2c3579f9",
   "metadata": {},
   "outputs": [
    {
     "name": "stdout",
     "output_type": "stream",
     "text": [
      "[3, 7, 12, 18, 25, 33]\n"
     ]
    }
   ],
   "source": [
    "sum_adj = []\n",
    "sum_a = 0\n",
    "for i in range(len(a)):\n",
    "    sum_a = sum_a + a[i]\n",
    "    sum_adj.append(sum_a)\n",
    "\n",
    "print(sum_adj[1::])"
   ]
  },
  {
   "cell_type": "code",
   "execution_count": null,
   "id": "5926d16f",
   "metadata": {},
   "outputs": [],
   "source": []
  }
 ],
 "metadata": {
  "kernelspec": {
   "display_name": "Python 3 (ipykernel)",
   "language": "python",
   "name": "python3"
  },
  "language_info": {
   "codemirror_mode": {
    "name": "ipython",
    "version": 3
   },
   "file_extension": ".py",
   "mimetype": "text/x-python",
   "name": "python",
   "nbconvert_exporter": "python",
   "pygments_lexer": "ipython3",
   "version": "3.7.0"
  }
 },
 "nbformat": 4,
 "nbformat_minor": 5
}
